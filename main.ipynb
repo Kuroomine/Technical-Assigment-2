{
 "cells": [
  {
   "cell_type": "code",
   "execution_count": null,
   "id": "77eb03e9",
   "metadata": {},
   "outputs": [
    {
     "ename": "",
     "evalue": "",
     "output_type": "error",
     "traceback": [
      "\u001b[1;31mRunning cells with 'Python 3.11.0' requires the ipykernel package.\n",
      "\u001b[1;31mRun the following command to install 'ipykernel' into the Python environment. \n",
      "\u001b[1;31mCommand: 'c:/Users/User/AppData/Local/Programs/Python/Python311/python.exe -m pip install ipykernel -U --user --force-reinstall'"
     ]
    }
   ],
   "source": [
    "import pandas as pd\n",
    "from sklearn.model_selection import train_test_split\n",
    "from sklearn.preprocessing import StandardScaler, LabelEncoder\n",
    "from sklearn.linear_model import LogisticRegression\n",
    "from sklearn.metrics import accuracy_score, classification_report"
   ]
  },
  {
   "cell_type": "code",
   "execution_count": null,
   "id": "4e6a0b0f",
   "metadata": {},
   "outputs": [],
   "source": [
    "df = pd.read_csv('python/data.csv')"
   ]
  },
  {
   "cell_type": "code",
   "execution_count": null,
   "id": "94d5f7f1",
   "metadata": {
    "lines_to_next_cell": 2
   },
   "outputs": [],
   "source": [
    "print(\"Kolom dalam DataFrame:\")\n",
    "print(df.columns)"
   ]
  },
  {
   "cell_type": "code",
   "execution_count": null,
   "id": "e5895b28",
   "metadata": {},
   "outputs": [],
   "source": [
    "relevant_columns = ['UDI', 'Product ID', 'Type', 'Air temperature [K]', 'Process temperature [K]', 'Machine failure']\n",
    "df = df[relevant_columns]"
   ]
  },
  {
   "cell_type": "code",
   "execution_count": null,
   "id": "51110653",
   "metadata": {},
   "outputs": [],
   "source": [
    "le_product_id = LabelEncoder()\n",
    "df['Product ID'] = le_product_id.fit_transform(df['Product ID'])"
   ]
  },
  {
   "cell_type": "code",
   "execution_count": null,
   "id": "a1f3c08a",
   "metadata": {},
   "outputs": [],
   "source": [
    "le_type = LabelEncoder()\n",
    "df['Type'] = le_type.fit_transform(df['Type'])"
   ]
  },
  {
   "cell_type": "code",
   "execution_count": null,
   "id": "4bec4fc1",
   "metadata": {},
   "outputs": [],
   "source": [
    "X = df.drop('Machine failure', axis=1).values\n",
    "y = df['Machine failure'].values"
   ]
  },
  {
   "cell_type": "code",
   "execution_count": null,
   "id": "165a555d",
   "metadata": {},
   "outputs": [],
   "source": [
    "X_train, X_test, y_train, y_test = train_test_split(X, y, test_size=0.2, random_state=0)"
   ]
  },
  {
   "cell_type": "code",
   "execution_count": null,
   "id": "2514ad87",
   "metadata": {},
   "outputs": [],
   "source": [
    "scaler = StandardScaler()\n",
    "X_train = scaler.fit_transform(X_train)\n",
    "X_test = scaler.transform(X_test)"
   ]
  },
  {
   "cell_type": "code",
   "execution_count": null,
   "id": "2e9b652a",
   "metadata": {},
   "outputs": [],
   "source": [
    "model = LogisticRegression()\n",
    "model.fit(X_train, y_train)"
   ]
  },
  {
   "cell_type": "code",
   "execution_count": null,
   "id": "8547ddfa",
   "metadata": {},
   "outputs": [],
   "source": [
    "y_pred = model.predict(X_test)"
   ]
  },
  {
   "cell_type": "code",
   "execution_count": null,
   "id": "941651c3",
   "metadata": {
    "lines_to_next_cell": 1
   },
   "outputs": [],
   "source": [
    "accuracy = accuracy_score(y_test, y_pred)\n",
    "print(f'Akurasi model: {accuracy}')\n",
    "print(classification_report(y_test, y_pred))"
   ]
  },
  {
   "cell_type": "code",
   "execution_count": null,
   "id": "56e0c3fb",
   "metadata": {
    "lines_to_next_cell": 1
   },
   "outputs": [],
   "source": [
    "def get_user_input():\n",
    "    udi = int(input(\"Masukkan UDI: \"))\n",
    "    product_id = input(\"Masukkan Product ID: \")\n",
    "    type_product = input(\"Masukkan Type: \")\n",
    "    air_temperature = float(input(\"Masukkan Air Temperature [K]: \"))\n",
    "    process_temperature = float(input(\"Masukkan Process Temperature [K]: \"))\n",
    "\n",
    "    product_id_encoded = le_product_id.transform([product_id])[0]\n",
    "    type_encoded = le_type.transform([type_product])[0]\n",
    "\n",
    "    return [[udi, product_id_encoded, type_encoded, air_temperature, process_temperature]]"
   ]
  },
  {
   "cell_type": "code",
   "execution_count": null,
   "id": "0bb12d44",
   "metadata": {},
   "outputs": [],
   "source": [
    "data_baru = get_user_input()"
   ]
  },
  {
   "cell_type": "code",
   "execution_count": null,
   "id": "e9480005",
   "metadata": {},
   "outputs": [],
   "source": [
    "data_baru = scaler.transform(data_baru)"
   ]
  },
  {
   "cell_type": "code",
   "execution_count": null,
   "id": "f7db5c6c",
   "metadata": {},
   "outputs": [],
   "source": [
    "prediksi = model.predict(data_baru)\n",
    "print(f'Prediksi kegagalan: {prediksi[0]}')"
   ]
  }
 ],
 "metadata": {
  "jupytext": {
   "cell_metadata_filter": "-all",
   "main_language": "python",
   "notebook_metadata_filter": "-all"
  },
  "kernelspec": {
   "display_name": "Python 3",
   "language": "python",
   "name": "python3"
  },
  "language_info": {
   "name": "python",
   "version": "3.11.0"
  }
 },
 "nbformat": 4,
 "nbformat_minor": 5
}
